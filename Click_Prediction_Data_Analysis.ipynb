{
 "cells": [
  {
   "cell_type": "code",
   "execution_count": 2,
   "metadata": {
    "collapsed": true
   },
   "outputs": [],
   "source": [
    "#Importing libraries\n",
    "import pandas as pd\n",
    "import numpy as np\n",
    "import seaborn as sns\n",
    "import matplotlib.pyplot as plt\n",
    "from sqlalchemy import create_engine\n",
    "%matplotlib inline"
   ]
  },
  {
   "cell_type": "raw",
   "metadata": {},
   "source": [
    "References\n",
    "- http://pythondata.com/working-large-csv-files-python/\n",
    "- http://www.mysqltutorial.org/import-csv-file-mysql-table/\n",
    "- http://dask.pydata.org/en/latest/dataframe-overview.html\n",
    "- https://ubuntuforums.org/showthread.php?t=390568\n",
    "- head -7267115 train.csv | tail -10\n",
    "- https://pythonspot.com/en/sqlite-database-with-pandas/\n",
    "- http://chris.friedline.net/2015-12-15-rutgers/lessons/python2/08-working-with-sql.html\n",
    "- https://www.dataquest.io/blog/python-pandas-databases/"
   ]
  },
  {
   "cell_type": "code",
   "execution_count": 3,
   "metadata": {
    "collapsed": true
   },
   "outputs": [],
   "source": [
    "data_file = \"./dataset/train.csv\""
   ]
  },
  {
   "cell_type": "code",
   "execution_count": 4,
   "metadata": {},
   "outputs": [
    {
     "data": {
      "text/html": [
       "<div>\n",
       "<style>\n",
       "    .dataframe thead tr:only-child th {\n",
       "        text-align: right;\n",
       "    }\n",
       "\n",
       "    .dataframe thead th {\n",
       "        text-align: left;\n",
       "    }\n",
       "\n",
       "    .dataframe tbody tr th {\n",
       "        vertical-align: top;\n",
       "    }\n",
       "</style>\n",
       "<table border=\"1\" class=\"dataframe\">\n",
       "  <thead>\n",
       "    <tr style=\"text-align: right;\">\n",
       "      <th></th>\n",
       "      <th>ID</th>\n",
       "      <th>Country</th>\n",
       "      <th>Carrier</th>\n",
       "      <th>TrafficType</th>\n",
       "      <th>ClickDate</th>\n",
       "      <th>Device</th>\n",
       "      <th>Browser</th>\n",
       "      <th>OS</th>\n",
       "      <th>RefererUrl</th>\n",
       "      <th>UserIp</th>\n",
       "      <th>ConversionStatus</th>\n",
       "      <th>ConversionDate</th>\n",
       "      <th>ConversionPayOut</th>\n",
       "      <th>publisherId</th>\n",
       "      <th>subPublisherId</th>\n",
       "      <th>advertiserCampaignId</th>\n",
       "      <th>Fraud</th>\n",
       "    </tr>\n",
       "  </thead>\n",
       "  <tbody>\n",
       "    <tr>\n",
       "      <th>0</th>\n",
       "      <td>0</td>\n",
       "      <td>IN</td>\n",
       "      <td>2.0</td>\n",
       "      <td>M</td>\n",
       "      <td>2017-08-21 00:00:01</td>\n",
       "      <td>Google</td>\n",
       "      <td>chrome</td>\n",
       "      <td>Android</td>\n",
       "      <td>NaN</td>\n",
       "      <td>42.111.171.131</td>\n",
       "      <td>False</td>\n",
       "      <td>NaN</td>\n",
       "      <td>0.0</td>\n",
       "      <td>69</td>\n",
       "      <td>NaN</td>\n",
       "      <td>6555.0</td>\n",
       "      <td>0.0</td>\n",
       "    </tr>\n",
       "    <tr>\n",
       "      <th>1</th>\n",
       "      <td>1</td>\n",
       "      <td>TH</td>\n",
       "      <td>27.0</td>\n",
       "      <td>A</td>\n",
       "      <td>2017-08-21 00:00:01</td>\n",
       "      <td>Generic</td>\n",
       "      <td>46.0.2490.76</td>\n",
       "      <td>Android</td>\n",
       "      <td>NaN</td>\n",
       "      <td>1.46.235.65</td>\n",
       "      <td>False</td>\n",
       "      <td>NaN</td>\n",
       "      <td>0.0</td>\n",
       "      <td>646</td>\n",
       "      <td>NaN</td>\n",
       "      <td>7510.0</td>\n",
       "      <td>0.0</td>\n",
       "    </tr>\n",
       "    <tr>\n",
       "      <th>2</th>\n",
       "      <td>2</td>\n",
       "      <td>IN</td>\n",
       "      <td>4.0</td>\n",
       "      <td>M</td>\n",
       "      <td>2017-08-21 00:00:01</td>\n",
       "      <td>Samsung</td>\n",
       "      <td>chromium</td>\n",
       "      <td>Android</td>\n",
       "      <td>NaN</td>\n",
       "      <td>49.15.91.224</td>\n",
       "      <td>False</td>\n",
       "      <td>NaN</td>\n",
       "      <td>0.0</td>\n",
       "      <td>301</td>\n",
       "      <td>NaN</td>\n",
       "      <td>12696.0</td>\n",
       "      <td>0.0</td>\n",
       "    </tr>\n",
       "    <tr>\n",
       "      <th>3</th>\n",
       "      <td>3</td>\n",
       "      <td>PH</td>\n",
       "      <td>-1.0</td>\n",
       "      <td>A</td>\n",
       "      <td>2017-08-21 00:00:01</td>\n",
       "      <td>Generic</td>\n",
       "      <td>android_webkit</td>\n",
       "      <td>Android</td>\n",
       "      <td>NaN</td>\n",
       "      <td>115.42.126.86</td>\n",
       "      <td>False</td>\n",
       "      <td>NaN</td>\n",
       "      <td>0.0</td>\n",
       "      <td>242</td>\n",
       "      <td>NaN</td>\n",
       "      <td>735.0</td>\n",
       "      <td>0.0</td>\n",
       "    </tr>\n",
       "    <tr>\n",
       "      <th>4</th>\n",
       "      <td>4</td>\n",
       "      <td>MX</td>\n",
       "      <td>-1.0</td>\n",
       "      <td>NaN</td>\n",
       "      <td>2017-08-21 00:00:01</td>\n",
       "      <td>Generic</td>\n",
       "      <td>chrome</td>\n",
       "      <td>Android</td>\n",
       "      <td>NaN</td>\n",
       "      <td>187.161.11.97</td>\n",
       "      <td>False</td>\n",
       "      <td>NaN</td>\n",
       "      <td>0.0</td>\n",
       "      <td>1306</td>\n",
       "      <td>NaN</td>\n",
       "      <td>7802.0</td>\n",
       "      <td>0.0</td>\n",
       "    </tr>\n",
       "  </tbody>\n",
       "</table>\n",
       "</div>"
      ],
      "text/plain": [
       "   ID Country  Carrier TrafficType            ClickDate   Device  \\\n",
       "0   0      IN      2.0           M  2017-08-21 00:00:01   Google   \n",
       "1   1      TH     27.0           A  2017-08-21 00:00:01  Generic   \n",
       "2   2      IN      4.0           M  2017-08-21 00:00:01  Samsung   \n",
       "3   3      PH     -1.0           A  2017-08-21 00:00:01  Generic   \n",
       "4   4      MX     -1.0         NaN  2017-08-21 00:00:01  Generic   \n",
       "\n",
       "          Browser       OS  RefererUrl          UserIp  ConversionStatus  \\\n",
       "0          chrome  Android         NaN  42.111.171.131             False   \n",
       "1    46.0.2490.76  Android         NaN     1.46.235.65             False   \n",
       "2        chromium  Android         NaN    49.15.91.224             False   \n",
       "3  android_webkit  Android         NaN   115.42.126.86             False   \n",
       "4          chrome  Android         NaN   187.161.11.97             False   \n",
       "\n",
       "   ConversionDate  ConversionPayOut  publisherId  subPublisherId  \\\n",
       "0             NaN               0.0           69             NaN   \n",
       "1             NaN               0.0          646             NaN   \n",
       "2             NaN               0.0          301             NaN   \n",
       "3             NaN               0.0          242             NaN   \n",
       "4             NaN               0.0         1306             NaN   \n",
       "\n",
       "   advertiserCampaignId  Fraud  \n",
       "0                6555.0    0.0  \n",
       "1                7510.0    0.0  \n",
       "2               12696.0    0.0  \n",
       "3                 735.0    0.0  \n",
       "4                7802.0    0.0  "
      ]
     },
     "execution_count": 4,
     "metadata": {},
     "output_type": "execute_result"
    }
   ],
   "source": [
    "pd.read_csv(data_file, nrows=5)"
   ]
  },
  {
   "cell_type": "code",
   "execution_count": 5,
   "metadata": {
    "collapsed": true
   },
   "outputs": [],
   "source": [
    "csv_database = create_engine(\"sqlite:///csv_database.db\")"
   ]
  },
  {
   "cell_type": "code",
   "execution_count": 6,
   "metadata": {},
   "outputs": [
    {
     "name": "stderr",
     "output_type": "stream",
     "text": [
      "/home/raavan/anaconda3/lib/python3.6/site-packages/IPython/core/interactiveshell.py:2717: DtypeWarning: Columns (13) have mixed types. Specify dtype option on import or set low_memory=False.\n",
      "  interactivity=interactivity, compiler=compiler, result=result)\n",
      "/home/raavan/anaconda3/lib/python3.6/site-packages/IPython/core/interactiveshell.py:2717: DtypeWarning: Columns (11) have mixed types. Specify dtype option on import or set low_memory=False.\n",
      "  interactivity=interactivity, compiler=compiler, result=result)\n",
      "/home/raavan/anaconda3/lib/python3.6/site-packages/IPython/core/interactiveshell.py:2717: DtypeWarning: Columns (11,13) have mixed types. Specify dtype option on import or set low_memory=False.\n",
      "  interactivity=interactivity, compiler=compiler, result=result)\n",
      "/home/raavan/anaconda3/lib/python3.6/site-packages/IPython/core/interactiveshell.py:2717: DtypeWarning: Columns (11,14) have mixed types. Specify dtype option on import or set low_memory=False.\n",
      "  interactivity=interactivity, compiler=compiler, result=result)\n",
      "/home/raavan/anaconda3/lib/python3.6/site-packages/IPython/core/interactiveshell.py:2717: DtypeWarning: Columns (14) have mixed types. Specify dtype option on import or set low_memory=False.\n",
      "  interactivity=interactivity, compiler=compiler, result=result)\n",
      "/home/raavan/anaconda3/lib/python3.6/site-packages/IPython/core/interactiveshell.py:2717: DtypeWarning: Columns (11,13,14) have mixed types. Specify dtype option on import or set low_memory=False.\n",
      "  interactivity=interactivity, compiler=compiler, result=result)\n"
     ]
    }
   ],
   "source": [
    "chunksize = 100000\n",
    "i = 0\n",
    "j = 1\n",
    "for df in pd.read_csv(data_file, chunksize=chunksize, iterator=True):\n",
    "    df = df.rename(columns={c: c.replace(' ', '') for c in df.columns})\n",
    "    df.index += j\n",
    "    i+=1\n",
    "    df.to_sql('table', csv_database, if_exists='append')\n",
    "    j = df.index[-1] + 1"
   ]
  },
  {
   "cell_type": "raw",
   "metadata": {},
   "source": [
    "create table ads (\n",
    "    id INT NOT NULL,\n",
    "    country VARCHAR(10),\n",
    "    carrier INT,\n",
    "    traffic_type VARCHAR(10),\n",
    "    click_date DATE,\n",
    "    device VARCHAR(20),\n",
    "    browser VARCHAR(20),\n",
    "    os VARCHAR(20),\n",
    "    referer_url VARCHAR(1000),\n",
    "    user_ip VARCHAR(20),\n",
    "    conversion_status BOOLEAN,\n",
    "    conversion_date DATE,\n",
    "    conversion_payout INT,\n",
    "    publisher_id INT,\n",
    "    sub_publisher_id INT,\n",
    "    advertiser_campaign_id INT,\n",
    "    fraud INT,\n",
    "    PRIMARY KEY (id)\n",
    ");\n",
    "\n",
    "LOAD DATA INFILE '/data/competitions/click_prediction/dataset/train.csv'\n",
    "INTO TABLE ads\n",
    "FIELDS TERMINATED BY ','\n",
    "LINES TERMINATED BY '\\n'\n",
    "IGNORE 1 ROWS\n",
    "(id,country,carrier,traffic_type,@click_date,device,browser,os,referer_url,user_ip,conversion_status,@conversion_date,conversion_payout,publisher_id,sub_publisher_id,advertiser_campaign_id,fraud)\n",
    "SET click_date = STR_TO_DATE(@click_date, '%m/%d/%Y')\n",
    "SET conversion_date = STR_TO_DATE(@conversion_date, '%m/%d/%Y');"
   ]
  },
  {
   "cell_type": "code",
   "execution_count": 11,
   "metadata": {},
   "outputs": [],
   "source": [
    "df = pd.read_sql_query(\"SELECT count(*) FROM 'table'\", csv_database)"
   ]
  },
  {
   "cell_type": "code",
   "execution_count": 13,
   "metadata": {
    "collapsed": true
   },
   "outputs": [],
   "source": [
    "import sqlite3"
   ]
  },
  {
   "cell_type": "code",
   "execution_count": 15,
   "metadata": {
    "collapsed": true
   },
   "outputs": [],
   "source": [
    "conn = sqlite3.connect(\"csv_database.db\")\n",
    "cur = conn.cursor()"
   ]
  },
  {
   "cell_type": "code",
   "execution_count": 18,
   "metadata": {},
   "outputs": [
    {
     "data": {
      "text/plain": [
       "<sqlite3.Cursor at 0x7f8c60928500>"
      ]
     },
     "execution_count": 18,
     "metadata": {},
     "output_type": "execute_result"
    }
   ],
   "source": [
    "cur.execute(\"select * from 'table' limit 5;\")"
   ]
  },
  {
   "cell_type": "code",
   "execution_count": 19,
   "metadata": {
    "collapsed": true
   },
   "outputs": [],
   "source": [
    "results = cur.fetchall()"
   ]
  },
  {
   "cell_type": "code",
   "execution_count": 28,
   "metadata": {},
   "outputs": [
    {
     "data": {
      "text/plain": [
       "[(1, 0, 'IN', 2.0, 'M', '2017-08-21 00:00:01', 'Google', 'chrome', 'Android', None, '42.111.171.131', 0, None, 0.0, '69', None, 6555.0, 0.0), (2, 1, 'TH', 27.0, 'A', '2017-08-21 00:00:01', 'Generic', '46.0.2490.76', 'Android', None, '1.46.235.65', 0, None, 0.0, '646', None, 7510.0, 0.0), (3, 2, 'IN', 4.0, 'M', '2017-08-21 00:00:01', 'Samsung', 'chromium', 'Android', None, '49.15.91.224', 0, None, 0.0, '301', None, 12696.0, 0.0), (4, 3, 'PH', -1.0, 'A', '2017-08-21 00:00:01', 'Generic', 'android_webkit', 'Android', None, '115.42.126.86', 0, None, 0.0, '242', None, 735.0, 0.0), (5, 4, 'MX', -1.0, None, '2017-08-21 00:00:01', 'Generic', 'chrome', 'Android', None, '187.161.11.97', 0, None, 0.0, '1306', None, 7802.0, 0.0)]"
      ]
     },
     "execution_count": 28,
     "metadata": {},
     "output_type": "execute_result"
    }
   ],
   "source": [
    "results"
   ]
  },
  {
   "cell_type": "code",
   "execution_count": 30,
   "metadata": {
    "collapsed": true
   },
   "outputs": [],
   "source": [
    "cur.close()\n",
    "conn.close()"
   ]
  },
  {
   "cell_type": "code",
   "execution_count": null,
   "metadata": {
    "collapsed": true
   },
   "outputs": [],
   "source": []
  }
 ],
 "metadata": {
  "kernelspec": {
   "display_name": "Python 3",
   "language": "python",
   "name": "python3"
  },
  "language_info": {
   "codemirror_mode": {
    "name": "ipython",
    "version": 3
   },
   "file_extension": ".py",
   "mimetype": "text/x-python",
   "name": "python",
   "nbconvert_exporter": "python",
   "pygments_lexer": "ipython3",
   "version": "3.6.1"
  }
 },
 "nbformat": 4,
 "nbformat_minor": 2
}
