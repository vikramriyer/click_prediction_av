{
 "cells": [
  {
   "cell_type": "raw",
   "metadata": {},
   "source": [
    "What are the steps:\n",
    "1. what are we covering in this post?\n",
    "2. when does the need arrive?\n",
    "  a. size of the file\n",
    "  b. ram of the machine\n",
    "  c. one way to explore without any tool\n",
    "3. Where did we get the dataset from?\n",
    "3. which are the tools?\n",
    "  a. sqlite3\n",
    "    i.   how to dump into a database?\n",
    "    ii.  how to read from database directly?\n",
    "    iii. how to read using a dataframe and why it is useful?\n",
    "  b. dask dataframe\n",
    "    i.  how does it work?\n",
    "    ii. what is the use?\n",
    "  c. mysql or any other relational database\n",
    "    i.  queries to dump into a database\n",
    "    ii. reading from mysql\n",
    "4. where to go from here?\n",
    "5. references if possible."
   ]
  },
  {
   "cell_type": "code",
   "execution_count": 1,
   "metadata": {
    "collapsed": true
   },
   "outputs": [],
   "source": [
    "#Importing libraries\n",
    "import pandas as pd\n",
    "import numpy as np\n",
    "import seaborn as sns\n",
    "import matplotlib.pyplot as plt\n",
    "from sqlalchemy import create_engine\n",
    "import sqlite3\n",
    "%matplotlib inline"
   ]
  },
  {
   "cell_type": "raw",
   "metadata": {},
   "source": [
    "References\n",
    "- http://pythondata.com/working-large-csv-files-python/\n",
    "- http://www.mysqltutorial.org/import-csv-file-mysql-table/\n",
    "- http://dask.pydata.org/en/latest/dataframe-overview.html\n",
    "- https://ubuntuforums.org/showthread.php?t=390568\n",
    "- head -7267115 train.csv | tail -10\n",
    "- https://pythonspot.com/en/sqlite-database-with-pandas/\n",
    "- http://chris.friedline.net/2015-12-15-rutgers/lessons/python2/08-working-with-sql.html\n",
    "- https://www.dataquest.io/blog/python-pandas-databases/"
   ]
  },
  {
   "cell_type": "code",
   "execution_count": 2,
   "metadata": {
    "collapsed": true
   },
   "outputs": [],
   "source": [
    "data_file = \"./dataset/train.csv\""
   ]
  },
  {
   "cell_type": "raw",
   "metadata": {},
   "source": [
    "So, I have usually seen these in the online courses as well as in various blogs, people usually take a toy dataset like iris, mnist, titanic, boston housing, etc and explain the complex concepts. Though this makes it easier to interpret the features and learn the topics; when actually doing machine learning tasks, it is important you practice on a large dataset. Large enough to prove it's an industrial grade project or something that does not fit into your memory."
   ]
  },
  {
   "cell_type": "raw",
   "metadata": {},
   "source": [
    "So, delaying no more, let me tell you that I work on a Ubuntu box with 8GB of RAM. So anything more than 4GB would choke up my system. If you see the below output, the size of data clearly is more than 7GB which is the reason I have to go to the above mentioned tools to seek help."
   ]
  },
  {
   "cell_type": "raw",
   "metadata": {},
   "source": [
    "So, if I dare load this in memory, I have only one option. Hit the power button."
   ]
  },
  {
   "cell_type": "raw",
   "metadata": {},
   "source": [
    "Now, Let's see how our data looks like. And no, we do not need any special tool for this, pandas is self sufficient."
   ]
  },
  {
   "cell_type": "code",
   "execution_count": 109,
   "metadata": {},
   "outputs": [
    {
     "data": {
      "text/html": [
       "<div>\n",
       "<style>\n",
       "    .dataframe thead tr:only-child th {\n",
       "        text-align: right;\n",
       "    }\n",
       "\n",
       "    .dataframe thead th {\n",
       "        text-align: left;\n",
       "    }\n",
       "\n",
       "    .dataframe tbody tr th {\n",
       "        vertical-align: top;\n",
       "    }\n",
       "</style>\n",
       "<table border=\"1\" class=\"dataframe\">\n",
       "  <thead>\n",
       "    <tr style=\"text-align: right;\">\n",
       "      <th></th>\n",
       "      <th>ID</th>\n",
       "      <th>Country</th>\n",
       "      <th>Carrier</th>\n",
       "      <th>TrafficType</th>\n",
       "      <th>ClickDate</th>\n",
       "      <th>Device</th>\n",
       "      <th>Browser</th>\n",
       "      <th>OS</th>\n",
       "      <th>RefererUrl</th>\n",
       "      <th>UserIp</th>\n",
       "      <th>ConversionStatus</th>\n",
       "      <th>ConversionDate</th>\n",
       "      <th>ConversionPayOut</th>\n",
       "      <th>publisherId</th>\n",
       "      <th>subPublisherId</th>\n",
       "      <th>advertiserCampaignId</th>\n",
       "      <th>Fraud</th>\n",
       "    </tr>\n",
       "  </thead>\n",
       "  <tbody>\n",
       "    <tr>\n",
       "      <th>0</th>\n",
       "      <td>0</td>\n",
       "      <td>IN</td>\n",
       "      <td>2.0</td>\n",
       "      <td>M</td>\n",
       "      <td>2017-08-21 00:00:01</td>\n",
       "      <td>Google</td>\n",
       "      <td>chrome</td>\n",
       "      <td>Android</td>\n",
       "      <td>NaN</td>\n",
       "      <td>42.111.171.131</td>\n",
       "      <td>False</td>\n",
       "      <td>NaN</td>\n",
       "      <td>0.0</td>\n",
       "      <td>69</td>\n",
       "      <td>NaN</td>\n",
       "      <td>6555.0</td>\n",
       "      <td>0.0</td>\n",
       "    </tr>\n",
       "    <tr>\n",
       "      <th>1</th>\n",
       "      <td>1</td>\n",
       "      <td>TH</td>\n",
       "      <td>27.0</td>\n",
       "      <td>A</td>\n",
       "      <td>2017-08-21 00:00:01</td>\n",
       "      <td>Generic</td>\n",
       "      <td>46.0.2490.76</td>\n",
       "      <td>Android</td>\n",
       "      <td>NaN</td>\n",
       "      <td>1.46.235.65</td>\n",
       "      <td>False</td>\n",
       "      <td>NaN</td>\n",
       "      <td>0.0</td>\n",
       "      <td>646</td>\n",
       "      <td>NaN</td>\n",
       "      <td>7510.0</td>\n",
       "      <td>0.0</td>\n",
       "    </tr>\n",
       "    <tr>\n",
       "      <th>2</th>\n",
       "      <td>2</td>\n",
       "      <td>IN</td>\n",
       "      <td>4.0</td>\n",
       "      <td>M</td>\n",
       "      <td>2017-08-21 00:00:01</td>\n",
       "      <td>Samsung</td>\n",
       "      <td>chromium</td>\n",
       "      <td>Android</td>\n",
       "      <td>NaN</td>\n",
       "      <td>49.15.91.224</td>\n",
       "      <td>False</td>\n",
       "      <td>NaN</td>\n",
       "      <td>0.0</td>\n",
       "      <td>301</td>\n",
       "      <td>NaN</td>\n",
       "      <td>12696.0</td>\n",
       "      <td>0.0</td>\n",
       "    </tr>\n",
       "    <tr>\n",
       "      <th>3</th>\n",
       "      <td>3</td>\n",
       "      <td>PH</td>\n",
       "      <td>-1.0</td>\n",
       "      <td>A</td>\n",
       "      <td>2017-08-21 00:00:01</td>\n",
       "      <td>Generic</td>\n",
       "      <td>android_webkit</td>\n",
       "      <td>Android</td>\n",
       "      <td>NaN</td>\n",
       "      <td>115.42.126.86</td>\n",
       "      <td>False</td>\n",
       "      <td>NaN</td>\n",
       "      <td>0.0</td>\n",
       "      <td>242</td>\n",
       "      <td>NaN</td>\n",
       "      <td>735.0</td>\n",
       "      <td>0.0</td>\n",
       "    </tr>\n",
       "    <tr>\n",
       "      <th>4</th>\n",
       "      <td>4</td>\n",
       "      <td>MX</td>\n",
       "      <td>-1.0</td>\n",
       "      <td>NaN</td>\n",
       "      <td>2017-08-21 00:00:01</td>\n",
       "      <td>Generic</td>\n",
       "      <td>chrome</td>\n",
       "      <td>Android</td>\n",
       "      <td>NaN</td>\n",
       "      <td>187.161.11.97</td>\n",
       "      <td>False</td>\n",
       "      <td>NaN</td>\n",
       "      <td>0.0</td>\n",
       "      <td>1306</td>\n",
       "      <td>NaN</td>\n",
       "      <td>7802.0</td>\n",
       "      <td>0.0</td>\n",
       "    </tr>\n",
       "    <tr>\n",
       "      <th>5</th>\n",
       "      <td>5</td>\n",
       "      <td>BD</td>\n",
       "      <td>125.0</td>\n",
       "      <td>NaN</td>\n",
       "      <td>2017-08-21 00:00:01</td>\n",
       "      <td>Samsung</td>\n",
       "      <td>chrome</td>\n",
       "      <td>Android</td>\n",
       "      <td>NaN</td>\n",
       "      <td>103.242.21.244</td>\n",
       "      <td>False</td>\n",
       "      <td>NaN</td>\n",
       "      <td>0.0</td>\n",
       "      <td>1306</td>\n",
       "      <td>NaN</td>\n",
       "      <td>2025.0</td>\n",
       "      <td>0.0</td>\n",
       "    </tr>\n",
       "    <tr>\n",
       "      <th>6</th>\n",
       "      <td>6</td>\n",
       "      <td>MX</td>\n",
       "      <td>50.0</td>\n",
       "      <td>M</td>\n",
       "      <td>2017-08-21 00:00:01</td>\n",
       "      <td>Zonda</td>\n",
       "      <td>chrome</td>\n",
       "      <td>Android</td>\n",
       "      <td>NaN</td>\n",
       "      <td>187.237.239.5</td>\n",
       "      <td>False</td>\n",
       "      <td>NaN</td>\n",
       "      <td>0.0</td>\n",
       "      <td>55</td>\n",
       "      <td>NaN</td>\n",
       "      <td>12688.0</td>\n",
       "      <td>0.0</td>\n",
       "    </tr>\n",
       "    <tr>\n",
       "      <th>7</th>\n",
       "      <td>7</td>\n",
       "      <td>IN</td>\n",
       "      <td>2.0</td>\n",
       "      <td>A</td>\n",
       "      <td>2017-08-21 00:00:01</td>\n",
       "      <td>Motorola</td>\n",
       "      <td>chrome</td>\n",
       "      <td>Android</td>\n",
       "      <td>NaN</td>\n",
       "      <td>42.106.70.46</td>\n",
       "      <td>False</td>\n",
       "      <td>NaN</td>\n",
       "      <td>0.0</td>\n",
       "      <td>1044</td>\n",
       "      <td>NaN</td>\n",
       "      <td>8786.0</td>\n",
       "      <td>0.0</td>\n",
       "    </tr>\n",
       "    <tr>\n",
       "      <th>8</th>\n",
       "      <td>8</td>\n",
       "      <td>BR</td>\n",
       "      <td>218.0</td>\n",
       "      <td>NaN</td>\n",
       "      <td>2017-08-21 00:00:01</td>\n",
       "      <td>Generic</td>\n",
       "      <td>android_webkit</td>\n",
       "      <td>Android</td>\n",
       "      <td>ads.advancemobile.net</td>\n",
       "      <td>189.0.123.228</td>\n",
       "      <td>False</td>\n",
       "      <td>NaN</td>\n",
       "      <td>0.0</td>\n",
       "      <td>1031</td>\n",
       "      <td>NaN</td>\n",
       "      <td>4901.0</td>\n",
       "      <td>0.0</td>\n",
       "    </tr>\n",
       "    <tr>\n",
       "      <th>9</th>\n",
       "      <td>9</td>\n",
       "      <td>IQ</td>\n",
       "      <td>-1.0</td>\n",
       "      <td>A</td>\n",
       "      <td>2017-08-21 00:00:01</td>\n",
       "      <td>Generic</td>\n",
       "      <td>android_webkit</td>\n",
       "      <td>Android</td>\n",
       "      <td>overtraff.com</td>\n",
       "      <td>93.187.32.6</td>\n",
       "      <td>False</td>\n",
       "      <td>NaN</td>\n",
       "      <td>0.0</td>\n",
       "      <td>282</td>\n",
       "      <td>NaN</td>\n",
       "      <td>5893.0</td>\n",
       "      <td>0.0</td>\n",
       "    </tr>\n",
       "  </tbody>\n",
       "</table>\n",
       "</div>"
      ],
      "text/plain": [
       "   ID Country  Carrier TrafficType            ClickDate    Device  \\\n",
       "0   0      IN      2.0           M  2017-08-21 00:00:01    Google   \n",
       "1   1      TH     27.0           A  2017-08-21 00:00:01   Generic   \n",
       "2   2      IN      4.0           M  2017-08-21 00:00:01   Samsung   \n",
       "3   3      PH     -1.0           A  2017-08-21 00:00:01   Generic   \n",
       "4   4      MX     -1.0         NaN  2017-08-21 00:00:01   Generic   \n",
       "5   5      BD    125.0         NaN  2017-08-21 00:00:01   Samsung   \n",
       "6   6      MX     50.0           M  2017-08-21 00:00:01     Zonda   \n",
       "7   7      IN      2.0           A  2017-08-21 00:00:01  Motorola   \n",
       "8   8      BR    218.0         NaN  2017-08-21 00:00:01   Generic   \n",
       "9   9      IQ     -1.0           A  2017-08-21 00:00:01   Generic   \n",
       "\n",
       "          Browser       OS             RefererUrl          UserIp  \\\n",
       "0          chrome  Android                    NaN  42.111.171.131   \n",
       "1    46.0.2490.76  Android                    NaN     1.46.235.65   \n",
       "2        chromium  Android                    NaN    49.15.91.224   \n",
       "3  android_webkit  Android                    NaN   115.42.126.86   \n",
       "4          chrome  Android                    NaN   187.161.11.97   \n",
       "5          chrome  Android                    NaN  103.242.21.244   \n",
       "6          chrome  Android                    NaN   187.237.239.5   \n",
       "7          chrome  Android                    NaN    42.106.70.46   \n",
       "8  android_webkit  Android  ads.advancemobile.net   189.0.123.228   \n",
       "9  android_webkit  Android          overtraff.com     93.187.32.6   \n",
       "\n",
       "   ConversionStatus  ConversionDate  ConversionPayOut  publisherId  \\\n",
       "0             False             NaN               0.0           69   \n",
       "1             False             NaN               0.0          646   \n",
       "2             False             NaN               0.0          301   \n",
       "3             False             NaN               0.0          242   \n",
       "4             False             NaN               0.0         1306   \n",
       "5             False             NaN               0.0         1306   \n",
       "6             False             NaN               0.0           55   \n",
       "7             False             NaN               0.0         1044   \n",
       "8             False             NaN               0.0         1031   \n",
       "9             False             NaN               0.0          282   \n",
       "\n",
       "   subPublisherId  advertiserCampaignId  Fraud  \n",
       "0             NaN                6555.0    0.0  \n",
       "1             NaN                7510.0    0.0  \n",
       "2             NaN               12696.0    0.0  \n",
       "3             NaN                 735.0    0.0  \n",
       "4             NaN                7802.0    0.0  \n",
       "5             NaN                2025.0    0.0  \n",
       "6             NaN               12688.0    0.0  \n",
       "7             NaN                8786.0    0.0  \n",
       "8             NaN                4901.0    0.0  \n",
       "9             NaN                5893.0    0.0  "
      ]
     },
     "execution_count": 109,
     "metadata": {},
     "output_type": "execute_result"
    }
   ],
   "source": [
    "# Remember that the nrow=5 is very important, or else you know that you will need the 'power button'.\n",
    "pd.read_csv(data_file, nrows=10)"
   ]
  },
  {
   "cell_type": "raw",
   "metadata": {},
   "source": [
    "We have viewed 5 rows from the entire data. Now, it is time we introduce our first tool. Sqlite3\n",
    "Steps are as follows:\n",
    "- create a db\n",
    "- read chunk by chunk and dump into the db\n",
    "- do what you want"
   ]
  },
  {
   "cell_type": "code",
   "execution_count": 79,
   "metadata": {
    "collapsed": true
   },
   "outputs": [],
   "source": [
    "# create a database\n",
    "csv_database = create_engine(\"sqlite:///ads.db\")"
   ]
  },
  {
   "cell_type": "code",
   "execution_count": 121,
   "metadata": {},
   "outputs": [
    {
     "name": "stdout",
     "output_type": "stream",
     "text": [
      "RangeIndex(start=0, stop=1, step=1)\n",
      "1    42.111.171.131\n",
      "Name: UserIp, dtype: object\n",
      "RangeIndex(start=1, stop=2, step=1)\n",
      "2    1.46.235.65\n",
      "Name: UserIp, dtype: object\n",
      "RangeIndex(start=2, stop=3, step=1)\n",
      "4    49.15.91.224\n",
      "Name: UserIp, dtype: object\n",
      "RangeIndex(start=3, stop=4, step=1)\n",
      "7    115.42.126.86\n",
      "Name: UserIp, dtype: object\n",
      "RangeIndex(start=4, stop=5, step=1)\n",
      "11    187.161.11.97\n",
      "Name: UserIp, dtype: object\n",
      "CPU times: user 208 ms, sys: 8 ms, total: 216 ms\n",
      "Wall time: 761 ms\n"
     ]
    }
   ],
   "source": [
    "%%time\n",
    "# I will use 1 lakh (100k) as the chunksize, so 1 lakh rows will be read at once. You can adjust this\n",
    "# according to your memory\n",
    "chunksize = 1#100000\n",
    "i = 0\n",
    "j = 1\n",
    "x = 1\n",
    "# each time the df will have 1,00,000 rows in it\n",
    "for df in pd.read_csv(data_file, chunksize=chunksize, iterator=True):\n",
    "    \n",
    "    print(df.index)\n",
    "    df = df.rename(columns={c: c.replace(' ', '') for c in df.columns})\n",
    "    df.index += j\n",
    "    i+=1\n",
    "    df.to_sql('ads', csv_database, if_exists='append')\n",
    "    j = df.index[-1]\n",
    "    print(df.UserIp)\n",
    "        if x == 5:\n",
    "        break\n",
    "    x += 1"
   ]
  },
  {
   "cell_type": "code",
   "execution_count": 103,
   "metadata": {},
   "outputs": [
    {
     "data": {
      "text/html": [
       "<div>\n",
       "<style>\n",
       "    .dataframe thead tr:only-child th {\n",
       "        text-align: right;\n",
       "    }\n",
       "\n",
       "    .dataframe thead th {\n",
       "        text-align: left;\n",
       "    }\n",
       "\n",
       "    .dataframe tbody tr th {\n",
       "        vertical-align: top;\n",
       "    }\n",
       "</style>\n",
       "<table border=\"1\" class=\"dataframe\">\n",
       "  <thead>\n",
       "    <tr style=\"text-align: right;\">\n",
       "      <th></th>\n",
       "      <th>ID</th>\n",
       "      <th>Country</th>\n",
       "      <th>Carrier</th>\n",
       "      <th>TrafficType</th>\n",
       "      <th>ClickDate</th>\n",
       "      <th>Device</th>\n",
       "      <th>Browser</th>\n",
       "      <th>OS</th>\n",
       "      <th>RefererUrl</th>\n",
       "      <th>UserIp</th>\n",
       "      <th>ConversionStatus</th>\n",
       "      <th>ConversionDate</th>\n",
       "      <th>ConversionPayOut</th>\n",
       "      <th>publisherId</th>\n",
       "      <th>subPublisherId</th>\n",
       "      <th>advertiserCampaignId</th>\n",
       "      <th>Fraud</th>\n",
       "    </tr>\n",
       "  </thead>\n",
       "  <tbody>\n",
       "    <tr>\n",
       "      <th>1</th>\n",
       "      <td>0</td>\n",
       "      <td>IN</td>\n",
       "      <td>2.0</td>\n",
       "      <td>M</td>\n",
       "      <td>2017-08-21 00:00:01</td>\n",
       "      <td>Google</td>\n",
       "      <td>chrome</td>\n",
       "      <td>Android</td>\n",
       "      <td>NaN</td>\n",
       "      <td>42.111.171.131</td>\n",
       "      <td>False</td>\n",
       "      <td>NaN</td>\n",
       "      <td>0.0</td>\n",
       "      <td>69</td>\n",
       "      <td>NaN</td>\n",
       "      <td>6555.0</td>\n",
       "      <td>0.0</td>\n",
       "    </tr>\n",
       "  </tbody>\n",
       "</table>\n",
       "</div>"
      ],
      "text/plain": [
       "   ID Country  Carrier TrafficType            ClickDate  Device Browser  \\\n",
       "1   0      IN      2.0           M  2017-08-21 00:00:01  Google  chrome   \n",
       "\n",
       "        OS  RefererUrl          UserIp  ConversionStatus  ConversionDate  \\\n",
       "1  Android         NaN  42.111.171.131             False             NaN   \n",
       "\n",
       "   ConversionPayOut  publisherId  subPublisherId  advertiserCampaignId  Fraud  \n",
       "1               0.0           69             NaN                6555.0    0.0  "
      ]
     },
     "execution_count": 103,
     "metadata": {},
     "output_type": "execute_result"
    }
   ],
   "source": [
    "df"
   ]
  },
  {
   "cell_type": "code",
   "execution_count": 67,
   "metadata": {},
   "outputs": [
    {
     "name": "stderr",
     "output_type": "stream",
     "text": [
      "/home/raavan/anaconda3/lib/python3.6/site-packages/ipykernel/zmqshell.py:533: DtypeWarning: Columns (11) have mixed types. Specify dtype option on import or set low_memory=False.\n",
      "  return super(ZMQInteractiveShell, self).run_cell(*args, **kwargs)\n"
     ]
    },
    {
     "data": {
      "text/html": [
       "<div>\n",
       "<style>\n",
       "    .dataframe thead tr:only-child th {\n",
       "        text-align: right;\n",
       "    }\n",
       "\n",
       "    .dataframe thead th {\n",
       "        text-align: left;\n",
       "    }\n",
       "\n",
       "    .dataframe tbody tr th {\n",
       "        vertical-align: top;\n",
       "    }\n",
       "</style>\n",
       "<table border=\"1\" class=\"dataframe\">\n",
       "  <thead>\n",
       "    <tr style=\"text-align: right;\">\n",
       "      <th></th>\n",
       "    </tr>\n",
       "  </thead>\n",
       "  <tbody>\n",
       "  </tbody>\n",
       "</table>\n",
       "</div>"
      ],
      "text/plain": [
       "Empty DataFrame\n",
       "Columns: []\n",
       "Index: []"
      ]
     },
     "execution_count": 67,
     "metadata": {},
     "output_type": "execute_result"
    }
   ],
   "source": [
    "dfd.rename(columns={c: c.replace(' ', '') for c in df.get_chunk().columns})"
   ]
  },
  {
   "cell_type": "code",
   "execution_count": 68,
   "metadata": {},
   "outputs": [
    {
     "data": {
      "text/html": [
       "<div>\n",
       "<style>\n",
       "    .dataframe thead tr:only-child th {\n",
       "        text-align: right;\n",
       "    }\n",
       "\n",
       "    .dataframe thead th {\n",
       "        text-align: left;\n",
       "    }\n",
       "\n",
       "    .dataframe tbody tr th {\n",
       "        vertical-align: top;\n",
       "    }\n",
       "</style>\n",
       "<table border=\"1\" class=\"dataframe\">\n",
       "  <thead>\n",
       "    <tr style=\"text-align: right;\">\n",
       "      <th></th>\n",
       "    </tr>\n",
       "  </thead>\n",
       "  <tbody>\n",
       "  </tbody>\n",
       "</table>\n",
       "</div>"
      ],
      "text/plain": [
       "Empty DataFrame\n",
       "Columns: []\n",
       "Index: []"
      ]
     },
     "execution_count": 68,
     "metadata": {},
     "output_type": "execute_result"
    }
   ],
   "source": [
    "dfd"
   ]
  },
  {
   "cell_type": "code",
   "execution_count": 73,
   "metadata": {},
   "outputs": [
    {
     "data": {
      "text/plain": [
       "Index(['ID', 'Country', 'Carrier', 'TrafficType', 'ClickDate', 'Device',\n",
       "       'Browser', 'OS', 'RefererUrl', 'UserIp', 'ConversionStatus',\n",
       "       'ConversionDate', 'ConversionPayOut', 'publisherId', 'subPublisherId',\n",
       "       'advertiserCampaignId', 'Fraud'],\n",
       "      dtype='object')"
      ]
     },
     "execution_count": 73,
     "metadata": {},
     "output_type": "execute_result"
    }
   ],
   "source": [
    "df.columns"
   ]
  },
  {
   "cell_type": "code",
   "execution_count": 83,
   "metadata": {},
   "outputs": [
    {
     "data": {
      "text/html": [
       "<div>\n",
       "<style>\n",
       "    .dataframe thead tr:only-child th {\n",
       "        text-align: right;\n",
       "    }\n",
       "\n",
       "    .dataframe thead th {\n",
       "        text-align: left;\n",
       "    }\n",
       "\n",
       "    .dataframe tbody tr th {\n",
       "        vertical-align: top;\n",
       "    }\n",
       "</style>\n",
       "<table border=\"1\" class=\"dataframe\">\n",
       "  <thead>\n",
       "    <tr style=\"text-align: right;\">\n",
       "      <th></th>\n",
       "      <th>ID</th>\n",
       "      <th>Country</th>\n",
       "      <th>Carrier</th>\n",
       "      <th>TrafficType</th>\n",
       "      <th>ClickDate</th>\n",
       "      <th>Device</th>\n",
       "      <th>Browser</th>\n",
       "      <th>OS</th>\n",
       "      <th>RefererUrl</th>\n",
       "      <th>UserIp</th>\n",
       "      <th>ConversionStatus</th>\n",
       "      <th>ConversionDate</th>\n",
       "      <th>ConversionPayOut</th>\n",
       "      <th>publisherId</th>\n",
       "      <th>subPublisherId</th>\n",
       "      <th>advertiserCampaignId</th>\n",
       "      <th>Fraud</th>\n",
       "    </tr>\n",
       "  </thead>\n",
       "  <tbody>\n",
       "    <tr>\n",
       "      <th>6</th>\n",
       "      <td>2</td>\n",
       "      <td>IN</td>\n",
       "      <td>4.0</td>\n",
       "      <td>M</td>\n",
       "      <td>2017-08-21 00:00:01</td>\n",
       "      <td>Samsung</td>\n",
       "      <td>chromium</td>\n",
       "      <td>Android</td>\n",
       "      <td>NaN</td>\n",
       "      <td>49.15.91.224</td>\n",
       "      <td>False</td>\n",
       "      <td>NaN</td>\n",
       "      <td>0.0</td>\n",
       "      <td>301</td>\n",
       "      <td>NaN</td>\n",
       "      <td>12696.0</td>\n",
       "      <td>0.0</td>\n",
       "    </tr>\n",
       "  </tbody>\n",
       "</table>\n",
       "</div>"
      ],
      "text/plain": [
       "   ID Country  Carrier TrafficType            ClickDate   Device   Browser  \\\n",
       "6   2      IN      4.0           M  2017-08-21 00:00:01  Samsung  chromium   \n",
       "\n",
       "        OS  RefererUrl        UserIp  ConversionStatus  ConversionDate  \\\n",
       "6  Android         NaN  49.15.91.224             False             NaN   \n",
       "\n",
       "   ConversionPayOut  publisherId  subPublisherId  advertiserCampaignId  Fraud  \n",
       "6               0.0          301             NaN               12696.0    0.0  "
      ]
     },
     "execution_count": 83,
     "metadata": {},
     "output_type": "execute_result"
    }
   ],
   "source": [
    "df"
   ]
  },
  {
   "cell_type": "code",
   "execution_count": 82,
   "metadata": {},
   "outputs": [
    {
     "data": {
      "text/html": [
       "<div>\n",
       "<style>\n",
       "    .dataframe thead tr:only-child th {\n",
       "        text-align: right;\n",
       "    }\n",
       "\n",
       "    .dataframe thead th {\n",
       "        text-align: left;\n",
       "    }\n",
       "\n",
       "    .dataframe tbody tr th {\n",
       "        vertical-align: top;\n",
       "    }\n",
       "</style>\n",
       "<table border=\"1\" class=\"dataframe\">\n",
       "  <thead>\n",
       "    <tr style=\"text-align: right;\">\n",
       "      <th></th>\n",
       "      <th>ID</th>\n",
       "      <th>Country</th>\n",
       "      <th>Carrier</th>\n",
       "      <th>TrafficType</th>\n",
       "      <th>ClickDate</th>\n",
       "      <th>Device</th>\n",
       "      <th>Browser</th>\n",
       "      <th>OS</th>\n",
       "      <th>RefererUrl</th>\n",
       "      <th>UserIp</th>\n",
       "      <th>ConversionStatus</th>\n",
       "      <th>ConversionDate</th>\n",
       "      <th>ConversionPayOut</th>\n",
       "      <th>publisherId</th>\n",
       "      <th>subPublisherId</th>\n",
       "      <th>advertiserCampaignId</th>\n",
       "      <th>Fraud</th>\n",
       "    </tr>\n",
       "  </thead>\n",
       "  <tbody>\n",
       "    <tr>\n",
       "      <th>6</th>\n",
       "      <td>2</td>\n",
       "      <td>IN</td>\n",
       "      <td>4.0</td>\n",
       "      <td>M</td>\n",
       "      <td>2017-08-21 00:00:01</td>\n",
       "      <td>Samsung</td>\n",
       "      <td>chromium</td>\n",
       "      <td>Android</td>\n",
       "      <td>NaN</td>\n",
       "      <td>49.15.91.224</td>\n",
       "      <td>False</td>\n",
       "      <td>NaN</td>\n",
       "      <td>0.0</td>\n",
       "      <td>301</td>\n",
       "      <td>NaN</td>\n",
       "      <td>12696.0</td>\n",
       "      <td>0.0</td>\n",
       "    </tr>\n",
       "  </tbody>\n",
       "</table>\n",
       "</div>"
      ],
      "text/plain": [
       "   ID Country  Carrier TrafficType            ClickDate   Device   Browser  \\\n",
       "6   2      IN      4.0           M  2017-08-21 00:00:01  Samsung  chromium   \n",
       "\n",
       "        OS  RefererUrl        UserIp  ConversionStatus  ConversionDate  \\\n",
       "6  Android         NaN  49.15.91.224             False             NaN   \n",
       "\n",
       "   ConversionPayOut  publisherId  subPublisherId  advertiserCampaignId  Fraud  \n",
       "6               0.0          301             NaN               12696.0    0.0  "
      ]
     },
     "execution_count": 82,
     "metadata": {},
     "output_type": "execute_result"
    }
   ],
   "source": [
    "df.rename(columns={c: c.replace(' ', '') for c in df.columns})"
   ]
  },
  {
   "cell_type": "code",
   "execution_count": 76,
   "metadata": {},
   "outputs": [
    {
     "data": {
      "text/html": [
       "<div>\n",
       "<style>\n",
       "    .dataframe thead tr:only-child th {\n",
       "        text-align: right;\n",
       "    }\n",
       "\n",
       "    .dataframe thead th {\n",
       "        text-align: left;\n",
       "    }\n",
       "\n",
       "    .dataframe tbody tr th {\n",
       "        vertical-align: top;\n",
       "    }\n",
       "</style>\n",
       "<table border=\"1\" class=\"dataframe\">\n",
       "  <thead>\n",
       "    <tr style=\"text-align: right;\">\n",
       "      <th></th>\n",
       "      <th>ID</th>\n",
       "      <th>Country</th>\n",
       "      <th>Carrier</th>\n",
       "      <th>TrafficType</th>\n",
       "      <th>ClickDate</th>\n",
       "      <th>Device</th>\n",
       "      <th>Browser</th>\n",
       "      <th>OS</th>\n",
       "      <th>RefererUrl</th>\n",
       "      <th>UserIp</th>\n",
       "      <th>ConversionStatus</th>\n",
       "      <th>ConversionDate</th>\n",
       "      <th>ConversionPayOut</th>\n",
       "      <th>publisherId</th>\n",
       "      <th>subPublisherId</th>\n",
       "      <th>advertiserCampaignId</th>\n",
       "      <th>Fraud</th>\n",
       "    </tr>\n",
       "  </thead>\n",
       "  <tbody>\n",
       "    <tr>\n",
       "      <th>1</th>\n",
       "      <td>0</td>\n",
       "      <td>IN</td>\n",
       "      <td>2.0</td>\n",
       "      <td>M</td>\n",
       "      <td>2017-08-21 00:00:01</td>\n",
       "      <td>Google</td>\n",
       "      <td>chrome</td>\n",
       "      <td>Android</td>\n",
       "      <td>NaN</td>\n",
       "      <td>42.111.171.131</td>\n",
       "      <td>False</td>\n",
       "      <td>NaN</td>\n",
       "      <td>0.0</td>\n",
       "      <td>69</td>\n",
       "      <td>NaN</td>\n",
       "      <td>6555.0</td>\n",
       "      <td>0.0</td>\n",
       "    </tr>\n",
       "  </tbody>\n",
       "</table>\n",
       "</div>"
      ],
      "text/plain": [
       "   ID Country  Carrier TrafficType            ClickDate  Device Browser  \\\n",
       "1   0      IN      2.0           M  2017-08-21 00:00:01  Google  chrome   \n",
       "\n",
       "        OS  RefererUrl          UserIp  ConversionStatus  ConversionDate  \\\n",
       "1  Android         NaN  42.111.171.131             False             NaN   \n",
       "\n",
       "   ConversionPayOut  publisherId  subPublisherId  advertiserCampaignId  Fraud  \n",
       "1               0.0           69             NaN                6555.0    0.0  "
      ]
     },
     "execution_count": 76,
     "metadata": {},
     "output_type": "execute_result"
    }
   ],
   "source": [
    "df.rename(columns={c: c.replace(' ', '') for c in df.columns})"
   ]
  },
  {
   "cell_type": "code",
   "execution_count": 119,
   "metadata": {},
   "outputs": [
    {
     "name": "stdout",
     "output_type": "stream",
     "text": [
      "total 11G\n",
      "-rw-rw-r-- 1 raavan raavan 7G Sep 14 07:29 train.csv\n",
      "-rw-rw-r-- 1 raavan raavan 3G Sep 14 10:38 test.csv\n",
      "-rw-rw-r-- 1 raavan raavan 1G Oct 11 21:10 Sample_Submission_tX8U7eD.csv\n",
      "-rw-rw-r-- 1 raavan raavan 1G Oct 11 21:44 test.zip\n",
      "-rw-rw-r-- 1 raavan raavan 2G Oct 11 23:03 train.zip\n",
      "-rw-rw-r-- 1 raavan raavan 1G Oct 11 23:44 data_click_description.png\n",
      "-rw-rw-r-- 1 raavan raavan 1G Oct 11 23:46 image1.png\n",
      "-rw-rw-r-- 1 raavan raavan 1G Oct 11 23:46 image2.png\n",
      "-rw-rw-r-- 1 raavan raavan 1G Oct 11 23:46 problem_statement\n",
      "-rw-rw-r-- 1 raavan raavan 1G Oct 11 23:47 data_desc\n",
      "-rw-rw-r-- 1 raavan raavan 1G Oct 12 18:11 tmp.csv\n",
      "drwxrwxr-x 2 raavan raavan 1G Oct 12 18:11 .\n",
      "drwxrwxr-x 5 raavan raavan 1G Oct 14 06:27 ..\n"
     ]
    }
   ],
   "source": [
    "%%bash\n",
    "ls -ltra --block-size=G ./dataset"
   ]
  },
  {
   "cell_type": "code",
   "execution_count": 117,
   "metadata": {},
   "outputs": [
    {
     "name": "stdout",
     "output_type": "stream",
     "text": [
      "              total        used        free      shared  buff/cache   available\n",
      "Mem:           7852        3106        2015         313        2731        4080\n",
      "Swap:         16120         746       15374\n"
     ]
    }
   ],
   "source": [
    "%%bash\n",
    "free -m"
   ]
  },
  {
   "cell_type": "code",
   "execution_count": null,
   "metadata": {
    "collapsed": true
   },
   "outputs": [],
   "source": []
  },
  {
   "cell_type": "code",
   "execution_count": null,
   "metadata": {
    "collapsed": true
   },
   "outputs": [],
   "source": []
  },
  {
   "cell_type": "code",
   "execution_count": null,
   "metadata": {
    "collapsed": true
   },
   "outputs": [],
   "source": []
  },
  {
   "cell_type": "raw",
   "metadata": {},
   "source": [
    "create table ads (\n",
    "    id INT NOT NULL,\n",
    "    country VARCHAR(10),\n",
    "    carrier INT,\n",
    "    traffic_type VARCHAR(10),\n",
    "    click_date DATE,\n",
    "    device VARCHAR(20),\n",
    "    browser VARCHAR(20),\n",
    "    os VARCHAR(20),\n",
    "    referer_url VARCHAR(1000),\n",
    "    user_ip VARCHAR(20),\n",
    "    conversion_status BOOLEAN,\n",
    "    conversion_date DATE,\n",
    "    conversion_payout INT,\n",
    "    publisher_id INT,\n",
    "    sub_publisher_id INT,\n",
    "    advertiser_campaign_id INT,\n",
    "    fraud INT,\n",
    "    PRIMARY KEY (id)\n",
    ");\n",
    "\n",
    "LOAD DATA INFILE '/data/competitions/click_prediction/dataset/train.csv'\n",
    "INTO TABLE ads\n",
    "FIELDS TERMINATED BY ','\n",
    "LINES TERMINATED BY '\\n'\n",
    "IGNORE 1 ROWS\n",
    "(id,country,carrier,traffic_type,@click_date,device,browser,os,referer_url,user_ip,conversion_status,@conversion_date,conversion_payout,publisher_id,sub_publisher_id,advertiser_campaign_id,fraud)\n",
    "SET click_date = STR_TO_DATE(@click_date, '%m/%d/%Y')\n",
    "SET conversion_date = STR_TO_DATE(@conversion_date, '%m/%d/%Y');"
   ]
  },
  {
   "cell_type": "code",
   "execution_count": 11,
   "metadata": {
    "collapsed": true
   },
   "outputs": [],
   "source": [
    "df = pd.read_sql_query(\"SELECT count(*) FROM 'table'\", csv_database)"
   ]
  },
  {
   "cell_type": "code",
   "execution_count": 13,
   "metadata": {
    "collapsed": true
   },
   "outputs": [],
   "source": [
    "import sqlite3"
   ]
  },
  {
   "cell_type": "code",
   "execution_count": 15,
   "metadata": {
    "collapsed": true
   },
   "outputs": [],
   "source": [
    "conn = sqlite3.connect(\"csv_database.db\")\n",
    "cur = conn.cursor()"
   ]
  },
  {
   "cell_type": "code",
   "execution_count": 18,
   "metadata": {},
   "outputs": [
    {
     "data": {
      "text/plain": [
       "<sqlite3.Cursor at 0x7f8c60928500>"
      ]
     },
     "execution_count": 18,
     "metadata": {},
     "output_type": "execute_result"
    }
   ],
   "source": [
    "cur.execute(\"select * from 'table' limit 5;\")"
   ]
  },
  {
   "cell_type": "code",
   "execution_count": 19,
   "metadata": {
    "collapsed": true
   },
   "outputs": [],
   "source": [
    "results = cur.fetchall()"
   ]
  },
  {
   "cell_type": "code",
   "execution_count": 28,
   "metadata": {},
   "outputs": [
    {
     "data": {
      "text/plain": [
       "[(1, 0, 'IN', 2.0, 'M', '2017-08-21 00:00:01', 'Google', 'chrome', 'Android', None, '42.111.171.131', 0, None, 0.0, '69', None, 6555.0, 0.0), (2, 1, 'TH', 27.0, 'A', '2017-08-21 00:00:01', 'Generic', '46.0.2490.76', 'Android', None, '1.46.235.65', 0, None, 0.0, '646', None, 7510.0, 0.0), (3, 2, 'IN', 4.0, 'M', '2017-08-21 00:00:01', 'Samsung', 'chromium', 'Android', None, '49.15.91.224', 0, None, 0.0, '301', None, 12696.0, 0.0), (4, 3, 'PH', -1.0, 'A', '2017-08-21 00:00:01', 'Generic', 'android_webkit', 'Android', None, '115.42.126.86', 0, None, 0.0, '242', None, 735.0, 0.0), (5, 4, 'MX', -1.0, None, '2017-08-21 00:00:01', 'Generic', 'chrome', 'Android', None, '187.161.11.97', 0, None, 0.0, '1306', None, 7802.0, 0.0)]"
      ]
     },
     "execution_count": 28,
     "metadata": {},
     "output_type": "execute_result"
    }
   ],
   "source": [
    "results"
   ]
  },
  {
   "cell_type": "code",
   "execution_count": 30,
   "metadata": {
    "collapsed": true
   },
   "outputs": [],
   "source": [
    "cur.close()\n",
    "conn.close()"
   ]
  },
  {
   "cell_type": "code",
   "execution_count": null,
   "metadata": {
    "collapsed": true
   },
   "outputs": [],
   "source": [
    "import dask.dataframe as dd"
   ]
  },
  {
   "cell_type": "code",
   "execution_count": 36,
   "metadata": {
    "collapsed": true
   },
   "outputs": [],
   "source": [
    "test = pd.read_csv(data_file, chunksize=100, iterator=True)"
   ]
  },
  {
   "cell_type": "code",
   "execution_count": null,
   "metadata": {
    "collapsed": true
   },
   "outputs": [],
   "source": []
  }
 ],
 "metadata": {
  "kernelspec": {
   "display_name": "Python 3",
   "language": "python",
   "name": "python3"
  },
  "language_info": {
   "codemirror_mode": {
    "name": "ipython",
    "version": 3
   },
   "file_extension": ".py",
   "mimetype": "text/x-python",
   "name": "python",
   "nbconvert_exporter": "python",
   "pygments_lexer": "ipython3",
   "version": "3.6.1"
  }
 },
 "nbformat": 4,
 "nbformat_minor": 2
}
